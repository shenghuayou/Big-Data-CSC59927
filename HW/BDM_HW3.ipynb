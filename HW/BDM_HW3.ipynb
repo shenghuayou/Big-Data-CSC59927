{
 "cells": [
  {
   "cell_type": "markdown",
   "metadata": {},
   "source": [
    "# Homework 3 - MapReduce\n",
    "\n",
    "### DUE: 03/08/2017 before class at 9:30am\n",
    "\n",
    "In this homework, we are practicing the MapReduce programming paradigm. \n",
    "\n",
    "You are required to turn in this notebook as BDM\\_HW4.ipynb. You will be asked to complete each task using the accompanied *mapreduce* package (as **mapreduce.py**) using one or more MapReduce \"jobs\". For each such job (with mr.run()), you are expected to supply a mapper and a reducer as needed. Below are sample usage of the package:\n",
    "\n",
    "```python\n",
    "    # Run on input1 using your mapper1 and reducer1 function\n",
    "    output = list(mr.run(input1, mapper1, reducer1))\n",
    "\n",
    "    # Run on input2 using only your mapper2, no reduce phase\n",
    "    output = list(mr.run(input2, mapper2))\n",
    "    \n",
    "    # Run on input3 using 2 nested MapReduce jobs\n",
    "    output = list(mr.run(mr.run(input3, mapper3, reducer3), mapper4, reducer4))\n",
    "```\n",
    "    \n",
    "Please note that the output the mr.run() is always a **generator**. You have to cast it to a list if you'd like to view, index or print it out."
   ]
  },
  {
   "cell_type": "markdown",
   "metadata": {},
   "source": [
    "## Task (10 points)\n",
    "\n",
    "There is only one task in this homework. You are asked to implement the Social Triangle example discussed in class. In particular, given the email dataset, please list all \"reciprocal\" relationships in the company. Recall that:\n",
    "\n",
    "If A emails B and B emails A, then A and B is *reciprocal*.\n",
    "\n",
    "If A emails B but B doesn’t email A, then A and B is *directed*.\n",
    "\n",
    "**Dataset:** We will use a subset of the open [Enron Email Dataset](https://www.cs.cmu.edu/~./enron/ \"Enron Email Dataset\"), which contains approximately 10,000 simplified email headers from the Enron Corporation. You can download this dataset from Blackboard as **enron_mails_small.csv**. The file contains 3 columns *Date*, *From*, and *To*. Their description is as follows:\n",
    "\n",
    "|Column name|Description|\n",
    "|--|--|\n",
    "|Date |The date and time of the email, in the format YYYY-MM-DD hh-mm-ss, <br />e.g. \"1998-10-30 07:43:00\" |\n",
    "|From |The sender email address, <br />e.g. \"mark.taylor@enron.com\" |\n",
    "|To | A list of recipients' email addresses separated by semicolons ';', <br />e.g. \"jennifer.fraser@enron.com;jeffrey.hodge@enron.com\" |\n",
    "\n",
    "Note that, we only care about users employed by Enron, or only relationships having email addresses that end with *'@enron.com'*.\n",
    "\n",
    "The expected output is also provided below. For each reciprocal relationship, please output a tuple consisting of two strings. The first one is always **'reciprocal'**. And the second one is a string showing the name of the two person in the following format: **'Jane Doe : John Doe'**. The names should be presented in the lexical order, i.e. there will not be a 'John Doe : Jane Doe' since 'Jane' is ordered before 'John.\n",
    "\n",
    "Though the dataset only contains email addresses, not actual names, we're assuming that the email aliases were created based on their name. For example:\n",
    "\n",
    "|Email Address|Converted Name|\n",
    "|--|--|\n",
    "|mark.taylor@enron.com|Mark Taylor|\n",
    "|alan.aronowitz@enron.com|Alan Aronowitz|\n",
    "|marc.r.cutler@enron.com|Marc R Cutler|\n",
    "|hugh@enron.com|Hugh|\n",
    "\n",
    "Please fill the code block with a series of MapReduce jobs using your own mapper and reducer functions. Be sure to include the naming convention logic into one of your mappers and/or reducers."
   ]
  },
  {
   "cell_type": "code",
   "execution_count": 114,
   "metadata": {
    "collapsed": false,
    "scrolled": false
   },
   "outputs": [
    {
     "name": "stdout",
     "output_type": "stream",
     "text": [
      "35\n"
     ]
    },
    {
     "data": {
      "text/plain": [
       "[('recipropcal', 'Brenda Whitehead : Elizabeth Sager '),\n",
       " ('recipropcal', 'Carol Clair : Debra Perlingiere '),\n",
       " ('recipropcal', 'Carol Clair : Mark Taylor '),\n",
       " ('recipropcal', 'Carol Clair : Richard Sanders '),\n",
       " ('recipropcal', 'Carol Clair : Sara Shackleton '),\n",
       " ('recipropcal', 'Carol Clair : Tana Jones '),\n",
       " ('recipropcal', 'Debra Perlingiere : Kevin Ruscitti '),\n",
       " ('recipropcal', 'Drew Fossum : Susan Scott '),\n",
       " ('recipropcal', 'Elizabeth Sager : Janette Elbertson '),\n",
       " ('recipropcal', 'Elizabeth Sager : Mark Haedicke '),\n",
       " ('recipropcal', 'Elizabeth Sager : Mark Taylor '),\n",
       " ('recipropcal', 'Elizabeth Sager : Richard Sanders '),\n",
       " ('recipropcal', 'Eric Bass : Susan Scott '),\n",
       " ('recipropcal', 'Fletcher Sturm : Greg Whalley '),\n",
       " ('recipropcal', 'Fletcher Sturm : Sally Beck '),\n",
       " ('recipropcal', 'Gerald Nemec : Susan Scott '),\n",
       " ('recipropcal', 'Grant Masson : Vince Kaminski '),\n",
       " ('recipropcal', 'Greg Whalley : Richard Sanders '),\n",
       " ('recipropcal', 'Janette Elbertson : Mark Taylor '),\n",
       " ('recipropcal', 'Janette Elbertson : Richard Sanders '),\n",
       " ('recipropcal', 'Liz Taylor : Mark Haedicke '),\n",
       " ('recipropcal', 'Mark Haedicke : Mark Taylor '),\n",
       " ('recipropcal', 'Mark Haedicke : Michelle Cash '),\n",
       " ('recipropcal', 'Mark Haedicke : Richard Sanders '),\n",
       " ('recipropcal', 'Mark Haedicke : Twanda Sweet '),\n",
       " ('recipropcal', 'Mark Taylor : Sara Shackleton '),\n",
       " ('recipropcal', 'Mark Taylor : Tana Jones '),\n",
       " ('recipropcal', 'Michelle Cash : Twanda Sweet '),\n",
       " ('recipropcal', 'Pinnamaneni Krishnarao : Vince Kaminski '),\n",
       " ('recipropcal', 'Richard Sanders : Sara Shackleton '),\n",
       " ('recipropcal', 'Rosalee Fleming : Steven Kean '),\n",
       " ('recipropcal', 'Sara Shackleton : Tana Jones '),\n",
       " ('recipropcal', 'Shirley Crenshaw : Vince Kaminski '),\n",
       " ('recipropcal', 'Stinson Gibner : Vince Kaminski '),\n",
       " ('recipropcal', 'Vasant Shanbhogue : Vince Kaminski ')]"
      ]
     },
     "execution_count": 114,
     "metadata": {},
     "output_type": "execute_result"
    }
   ],
   "source": [
    "import csv\n",
    "import mapreduce as mr\n",
    "\n",
    "def mapper1(row):\n",
    "    if ('@enron.com' in row['From']) and ('@enron.com' in row['To']):\n",
    "        F_Name=''\n",
    "        To_Name_Array=[]\n",
    "        \n",
    "        From_Name = row['From'].split('@')[0].split('.')\n",
    "        for i in From_Name:\n",
    "            F_Name += i\n",
    "            F_Name += ' '\n",
    "        F_Name = F_Name.title()\n",
    "        \n",
    "        Many_To_Names = row['To'].split(';')\n",
    "        for k in Many_To_Names:\n",
    "            To_Name = k.split('@')[0].split('.')\n",
    "            T_Name=''\n",
    "            for j in To_Name:\n",
    "                T_Name += j\n",
    "                T_Name += ' '\n",
    "            T_Name = T_Name.title()\n",
    "            To_Name_Array.append(T_Name)\n",
    "\n",
    "        for q in To_Name_Array:\n",
    "            #print (F_Name,q)\n",
    "            yield (F_Name, q)\n",
    "\n",
    "def reducer1((row)):\n",
    "    #print row\n",
    "    E_from, E_to = row\n",
    "    E_to = list(set(E_to))\n",
    "    return (E_from, E_to)\n",
    "    \n",
    "def mapper2(row):\n",
    "    #print row\n",
    "    x, y = row\n",
    "    for w in y:\n",
    "        if x < w:\n",
    "            yield ((x,w),1)\n",
    "        else:\n",
    "            yield ((w,x),1)\n",
    "        \n",
    "def reducer2(row):\n",
    "    #print row\n",
    "    return row\n",
    "\n",
    "def mapper3(row):\n",
    "    x, y = row\n",
    "    if len(y) == 2:\n",
    "        yield ('recipropcal', x[0]+': '+ x[1])\n",
    "    \n",
    "with open('enron_mails_small.csv', 'r') as fi:\n",
    "    reader = csv.DictReader(fi)\n",
    "    output = list(mr.run((mr.run((mr.run(reader, mapper1,reducer1)),mapper2,reducer2)),mapper3))\n",
    "\n",
    "print(len(output))\n",
    "output"
   ]
  },
  {
   "cell_type": "code",
   "execution_count": null,
   "metadata": {
    "collapsed": true
   },
   "outputs": [],
   "source": []
  },
  {
   "cell_type": "code",
   "execution_count": null,
   "metadata": {
    "collapsed": true
   },
   "outputs": [],
   "source": []
  }
 ],
 "metadata": {
  "anaconda-cloud": {},
  "kernelspec": {
   "display_name": "Python [python2]",
   "language": "python",
   "name": "Python [python2]"
  },
  "language_info": {
   "codemirror_mode": {
    "name": "ipython",
    "version": 2
   },
   "file_extension": ".py",
   "mimetype": "text/x-python",
   "name": "python",
   "nbconvert_exporter": "python",
   "pygments_lexer": "ipython2",
   "version": "2.7.13"
  }
 },
 "nbformat": 4,
 "nbformat_minor": 0
}
