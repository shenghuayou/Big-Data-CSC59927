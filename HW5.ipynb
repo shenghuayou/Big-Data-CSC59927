{
 "cells": [
  {
   "cell_type": "code",
   "execution_count": 1,
   "metadata": {
    "collapsed": false
   },
   "outputs": [
    {
     "data": {
      "text/plain": [
       "<pyspark.context.SparkContext at 0x113471d90>"
      ]
     },
     "execution_count": 1,
     "metadata": {},
     "output_type": "execute_result"
    }
   ],
   "source": [
    "sc"
   ]
  },
  {
   "cell_type": "code",
   "execution_count": 22,
   "metadata": {
    "collapsed": false,
    "scrolled": true
   },
   "outputs": [
    {
     "data": {
      "text/plain": [
       "[('00:10:10', '40.7201347351', '-73.9749755859375'),\n",
       " ('00:03:36', '40.7313919067', '-73.975341796875'),\n",
       " ('00:10:32', '40.7492370605', '-74.003067016601562'),\n",
       " ('00:19:42', '40.7940177917', '-73.96990966796875'),\n",
       " ('00:03:11', '40.75623703', '-73.975303649902344')]"
      ]
     },
     "execution_count": 22,
     "metadata": {},
     "output_type": "execute_result"
    }
   ],
   "source": [
    "def mapper1(index,data):\n",
    "    # skip header row\n",
    "    if index==0:\n",
    "        data.next()\n",
    "    import csv\n",
    "    import datetime as dt\n",
    "    reader = csv.reader(data)\n",
    "    for row in reader:\n",
    "        dropoff_lat = float(row[4])\n",
    "        dropoff_lon = row[5]\n",
    "        if dropoff_lat > 40.0:\n",
    "            dropoff_time = dt.datetime.strptime(row[1][:19], '%Y-%m-%d %H:%M:%S').strftime('%H:%M:%S')\n",
    "            yield (dropoff_time, str(dropoff_lat), dropoff_lon)\n",
    "                \n",
    "yellow = sc.textFile('yellow.csv',use_unicode=False).cache()\n",
    "            \n",
    "rdd1 = yellow.mapPartitionsWithIndex(mapper1)\n",
    "\n",
    "rdd1.collect()[:5]"
   ]
  },
  {
   "cell_type": "code",
   "execution_count": 23,
   "metadata": {
    "collapsed": false,
    "scrolled": true
   },
   "outputs": [
    {
     "data": {
      "text/plain": [
       "[('00:05:00', '40.73901691', '-74.00263761'),\n",
       " ('00:05:00', '40.73901691', '-74.00263761'),\n",
       " ('00:50:00', '40.73901691', '-74.00263761'),\n",
       " ('01:30:00', '40.73901691', '-74.00263761'),\n",
       " ('03:28:00', '40.73901691', '-74.00263761')]"
      ]
     },
     "execution_count": 23,
     "metadata": {},
     "output_type": "execute_result"
    }
   ],
   "source": [
    "def mapper2(index,data):\n",
    "    # skip header row\n",
    "    if index==0:\n",
    "        data.next()\n",
    "    import csv\n",
    "    import datetime as dt\n",
    "    reader = csv.reader(data)\n",
    "    for row in reader:\n",
    "        start_time = dt.datetime.strptime(row[3][:19], '%Y-%m-%d %H:%M:%S').strftime('%H:%M:%S')\n",
    "        onDay = dt.datetime.strptime(row[3].split(' ')[0], '%Y-%m-%d')\n",
    "        saidDay = dt.datetime.strptime('2015-02-01', '%Y-%m-%d')\n",
    "        start_station = row[6]\n",
    "        start_lat = row[7]\n",
    "        start_long = row[8]\n",
    "        if start_station == 'Greenwich Ave & 8 Ave' and onDay == saidDay:\n",
    "            yield (start_time, start_lat, start_long)\n",
    "                \n",
    "cb = sc.textFile('citibike.csv',use_unicode=False).cache()\n",
    "           \n",
    "rdd2 = cb.mapPartitionsWithIndex(mapper2)\n",
    "\n",
    "rdd2.collect()[:5]"
   ]
  },
  {
   "cell_type": "code",
   "execution_count": null,
   "metadata": {
    "collapsed": true
   },
   "outputs": [],
   "source": []
  }
 ],
 "metadata": {
  "kernelspec": {
   "display_name": "Python [python2]",
   "language": "python",
   "name": "Python [python2]"
  },
  "language_info": {
   "codemirror_mode": {
    "name": "ipython",
    "version": 2
   },
   "file_extension": ".py",
   "mimetype": "text/x-python",
   "name": "python",
   "nbconvert_exporter": "python",
   "pygments_lexer": "ipython2",
   "version": "2.7.13"
  }
 },
 "nbformat": 4,
 "nbformat_minor": 0
}
