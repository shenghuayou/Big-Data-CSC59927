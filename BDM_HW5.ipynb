{
 "cells": [
  {
   "cell_type": "code",
   "execution_count": 1,
   "metadata": {
    "collapsed": false
   },
   "outputs": [
    {
     "data": {
      "text/plain": [
       "<pyspark.context.SparkContext at 0x10ed6dd90>"
      ]
     },
     "execution_count": 1,
     "metadata": {},
     "output_type": "execute_result"
    }
   ],
   "source": [
    "sc"
   ]
  },
  {
   "cell_type": "code",
   "execution_count": 2,
   "metadata": {
    "collapsed": false,
    "scrolled": true
   },
   "outputs": [
    {
     "data": {
      "text/plain": [
       "[('00:10:10', '40.7201347351', '-73.9749755859375'),\n",
       " ('00:03:36', '40.7313919067', '-73.975341796875'),\n",
       " ('00:10:32', '40.7492370605', '-74.003067016601562'),\n",
       " ('00:19:42', '40.7940177917', '-73.96990966796875'),\n",
       " ('00:03:11', '40.75623703', '-73.975303649902344')]"
      ]
     },
     "execution_count": 2,
     "metadata": {},
     "output_type": "execute_result"
    }
   ],
   "source": [
    "def mapper1(index,data):\n",
    "    # skip header row\n",
    "    if index==0:\n",
    "        data.next()\n",
    "    import csv\n",
    "    import datetime as dt\n",
    "    reader = csv.reader(data)\n",
    "    for row in reader:\n",
    "        dropoff_lat = float(row[4])\n",
    "        dropoff_lon = row[5]\n",
    "        dropoff_time = row[1][11:19]\n",
    "        if dropoff_lat > 40.0:\n",
    "            yield (str(dropoff_time), str(dropoff_lat), dropoff_lon)\n",
    "                \n",
    "yellow = sc.textFile('yellow.csv',use_unicode=False).cache()\n",
    "            \n",
    "rdd1 = yellow.mapPartitionsWithIndex(mapper1)\n",
    "\n",
    "rdd1.collect()[:5]"
   ]
  },
  {
   "cell_type": "code",
   "execution_count": 3,
   "metadata": {
    "collapsed": false,
    "scrolled": true
   },
   "outputs": [
    {
     "data": {
      "text/plain": [
       "[('00:05:00', '40.73901691', '-74.00263761'),\n",
       " ('00:05:00', '40.73901691', '-74.00263761'),\n",
       " ('00:50:00', '40.73901691', '-74.00263761'),\n",
       " ('01:30:00', '40.73901691', '-74.00263761'),\n",
       " ('03:28:00', '40.73901691', '-74.00263761')]"
      ]
     },
     "execution_count": 3,
     "metadata": {},
     "output_type": "execute_result"
    }
   ],
   "source": [
    "def mapper2(index,data):\n",
    "    # skip header row\n",
    "    if index==0:\n",
    "        data.next()\n",
    "    import csv\n",
    "    import datetime as dt\n",
    "    reader = csv.reader(data)\n",
    "    for row in reader:\n",
    "        start_time = row[3][11:19]\n",
    "        onDay =row[3].split(' ')[0]\n",
    "        saidDay = '2015-02-01'\n",
    "        start_station = row[6]\n",
    "        start_lat = row[7]\n",
    "        start_long = row[8]\n",
    "        if start_station == 'Greenwich Ave & 8 Ave' and onDay == saidDay:\n",
    "            yield (start_time, start_lat, start_long)\n",
    "                \n",
    "cb = sc.textFile('citibike.csv',use_unicode=False).cache()\n",
    "           \n",
    "rdd2 = cb.mapPartitionsWithIndex(mapper2)\n",
    "\n",
    "rdd2.collect()[:5]"
   ]
  },
  {
   "cell_type": "code",
   "execution_count": 4,
   "metadata": {
    "collapsed": true
   },
   "outputs": [],
   "source": [
    "from math import radians, cos, sin, asin, sqrt\n",
    "def haversine(lon1, lat1, lon2, lat2):\n",
    "    # convert decimal degrees to radians \n",
    "    lon1, lat1, lon2, lat2 = map(radians, [lon1, lat1, lon2, lat2])\n",
    "    # haversine formula \n",
    "    dlon = lon2 - lon1 \n",
    "    dlat = lat2 - lat1 \n",
    "    a = sin(dlat/2)**2 + cos(lat1) * cos(lat2) * sin(dlon/2)**2\n",
    "    c = 2 * asin(sqrt(a)) \n",
    "    km = 6367 * c\n",
    "    return km*0.621371 "
   ]
  },
  {
   "cell_type": "code",
   "execution_count": 5,
   "metadata": {
    "collapsed": false
   },
   "outputs": [],
   "source": [
    "def hms_to_seconds(t):\n",
    "    h, m, s = [int(i) for i in t.split(':')]\n",
    "    return 3600*h + 60*m + s\n",
    "\n",
    "rdd3 = rdd2.cartesian(rdd1) \\\n",
    "           .filter(lambda x:\n",
    "                (hms_to_seconds(x[0][0]) - hms_to_seconds(x[1][0]) >= 0) \n",
    "                and\n",
    "                (hms_to_seconds(x[0][0]) - hms_to_seconds(x[1][0]) <= 600) \n",
    "                and \n",
    "                (haversine(float(x[0][2]), float(x[0][1]), float(x[1][2]), float(x[1][1])) <= 0.25)) \\\n",
    "                .count()"
   ]
  },
  {
   "cell_type": "code",
   "execution_count": 6,
   "metadata": {
    "collapsed": false
   },
   "outputs": [
    {
     "name": "stdout",
     "output_type": "stream",
     "text": [
      "3951\n"
     ]
    }
   ],
   "source": [
    "print rdd3"
   ]
  },
  {
   "cell_type": "code",
   "execution_count": null,
   "metadata": {
    "collapsed": true
   },
   "outputs": [],
   "source": []
  }
 ],
 "metadata": {
  "anaconda-cloud": {},
  "kernelspec": {
   "display_name": "Python [py27]",
   "language": "python",
   "name": "Python [py27]"
  },
  "language_info": {
   "codemirror_mode": {
    "name": "ipython",
    "version": 2
   },
   "file_extension": ".py",
   "mimetype": "text/x-python",
   "name": "python",
   "nbconvert_exporter": "python",
   "pygments_lexer": "ipython2",
   "version": "2.7.13"
  }
 },
 "nbformat": 4,
 "nbformat_minor": 0
}
